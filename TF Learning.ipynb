{
 "cells": [
  {
   "cell_type": "code",
   "execution_count": 1,
   "id": "73541b58",
   "metadata": {
    "ExecuteTime": {
     "end_time": "2024-01-18T15:29:41.417797Z",
     "start_time": "2024-01-18T15:29:38.190536Z"
    }
   },
   "outputs": [],
   "source": [
    "import tensorflow as tf\n",
    "import matplotlib.pyplot as plt\n",
    "import tkinter as tk\n",
    "from PIL import Image, ImageDraw\n",
    "import numpy as np\n",
    "import matplotlib.pyplot as plt"
   ]
  },
  {
   "cell_type": "code",
   "execution_count": 2,
   "id": "28457aa0",
   "metadata": {
    "ExecuteTime": {
     "end_time": "2024-01-18T15:29:41.432689Z",
     "start_time": "2024-01-18T15:29:41.418803Z"
    }
   },
   "outputs": [],
   "source": [
    "mnist = tf.keras.datasets.mnist"
   ]
  },
  {
   "cell_type": "code",
   "execution_count": 3,
   "id": "c6e6f816",
   "metadata": {
    "ExecuteTime": {
     "end_time": "2024-01-18T15:29:42.349226Z",
     "start_time": "2024-01-18T15:29:41.434332Z"
    },
    "scrolled": false
   },
   "outputs": [
    {
     "data": {
      "image/png": "[encoded data removed]",
      "text/plain": [
       "<Figure size 640x480 with 1 Axes>"
      ]
     },
     "metadata": {},
     "output_type": "display_data"
    },
    {
     "data": {
      "image/png": "[encoded data removed]",
      "text/plain": [
       "<Figure size 640x480 with 1 Axes>"
      ]
     },
     "metadata": {},
     "output_type": "display_data"
    },
    {
     "data": {
      "image/png": "[encoded data removed]",
      "text/plain": [
       "<Figure size 640x480 with 1 Axes>"
      ]
     },
     "metadata": {},
     "output_type": "display_data"
    }
   ],
   "source": [
    "for i in range(3):\n",
    "    plt.subplot(1, 3, i + 1)\n",
    "    plt.imshow(mnist.load_data()[0][0][i], cmap='gray')\n",
    "    plt.title(f\"Label {mnist.load_data()[0][1][i]}\")\n",
    "    plt.axis('off');\n",
    "    plt.show()\n",
    "    \n",
    "plt.show()"
   ]
  },
  {
   "cell_type": "code",
   "execution_count": 4,
   "id": "2b668c9d",
   "metadata": {
    "ExecuteTime": {
     "end_time": "2024-01-18T15:29:42.606311Z",
     "start_time": "2024-01-18T15:29:42.350116Z"
    }
   },
   "outputs": [],
   "source": [
    "(x_train, y_train),(x_test, y_test) = mnist.load_data()\n",
    "\n",
    "'''We normalize the value of each pixel as it contains pixel brightness only, \n",
    "i.e. the data takes the value from 0 to 1. Without normalization, the \n",
    "pixel brightness is from 0 to 255'''\n",
    "\n",
    "x_train, x_test = x_train / 255.0, x_test / 255.0"
   ]
  },
  {
   "cell_type": "code",
   "execution_count": 5,
   "id": "bdc93602",
   "metadata": {
    "ExecuteTime": {
     "end_time": "2024-01-18T15:29:42.610857Z",
     "start_time": "2024-01-18T15:29:42.607655Z"
    }
   },
   "outputs": [],
   "source": [
    "def augment_image(image):\n",
    "    # Expand dimensions to make it compatible with RandomZoom\n",
    "    expanded_image = tf.expand_dims(image, axis=-1)\n",
    "\n",
    "    # Randomly scale the image (zoom in or out)\n",
    "    zoom_layer = tf.keras.layers.RandomZoom(height_factor=[0.5,1], width_factor=[0.5,1], fill_mode='constant')\n",
    "    scaled_image = zoom_layer(expanded_image)\n",
    "\n",
    "    # Randomly rotate the scaled image\n",
    "    rotated_image = tf.image.rot90(scaled_image, tf.random.uniform(shape=[], minval=0, maxval=4, dtype=tf.int32))\n",
    "\n",
    "    # Randomly shift the image left or right\n",
    "    shift_value = tf.random.uniform(shape=[], minval=-10, maxval=10, dtype=tf.float32)\n",
    "    shift_layer = tf.keras.layers.experimental.preprocessing.Rescaling(1.0 / 255)  # Rescale values to [0,1]\n",
    "    shifted_image = tf.keras.layers.experimental.preprocessing.Rescaling(255.0)(shift_layer(rotated_image))\n",
    "\n",
    "    # Resize the image back to its original size\n",
    "    final_image = tf.image.resize(shifted_image, size=(28, 28))\n",
    "\n",
    "    return final_image.numpy()[:,:,0]"
   ]
  },
  {
   "cell_type": "code",
   "execution_count": 6,
   "id": "63ef9512",
   "metadata": {
    "ExecuteTime": {
     "end_time": "2024-01-18T15:29:42.756706Z",
     "start_time": "2024-01-18T15:29:42.611823Z"
    },
    "scrolled": false
   },
   "outputs": [
    {
     "data": {
      "image/png": "[encoded data removed]",
      "text/plain": [
       "<Figure size 800x400 with 4 Axes>"
      ]
     },
     "metadata": {},
     "output_type": "display_data"
    }
   ],
   "source": [
    "# Display original and augmented images\n",
    "num_images = 2\n",
    "\n",
    "plt.figure(figsize=(8, 4))\n",
    "for i in range(num_images):\n",
    "    # Original image\n",
    "    plt.subplot(2, num_images, i + 1)\n",
    "    plt.imshow(x_train[i], cmap='gray')\n",
    "    plt.title(f\"Label {y_train[i]}\")\n",
    "    plt.axis('off')\n",
    "\n",
    "    # Augmented image\n",
    "    augmented_img = augment_image(x_train[i])\n",
    "#     augmented_img = augmented_img.numpy()[:, :, 0]\n",
    "    \n",
    "    plt.subplot(2, num_images, i + num_images + 1)\n",
    "    plt.imshow(augmented_img, cmap='gray')\n",
    "    plt.title(f\"Augmented\")\n",
    "    plt.axis('off')\n",
    "\n",
    "plt.show()"
   ]
  },
  {
   "cell_type": "code",
   "execution_count": 7,
   "id": "c35ac1b9",
   "metadata": {
    "ExecuteTime": {
     "end_time": "2024-01-18T15:33:54.994348Z",
     "start_time": "2024-01-18T15:29:42.757926Z"
    }
   },
   "outputs": [],
   "source": [
    "# Create empty lists to store augmented data\n",
    "augmented_images_list = []\n",
    "augmented_labels_list = []\n",
    "\n",
    "# Iterate through the original training data\n",
    "for i in range(len(x_train)):\n",
    "    # Augment the image\n",
    "    augmented_img = augment_image(x_train[i])\n",
    "\n",
    "    # Append original and augmented data to the lists\n",
    "    augmented_images_list.append(x_train[i])\n",
    "    augmented_labels_list.append(y_train[i])\n",
    "\n",
    "    augmented_images_list.append(augmented_img)\n",
    "    augmented_labels_list.append(y_train[i])\n",
    "\n",
    "# Convert lists to NumPy arrays\n",
    "augmented_x_train = np.array(augmented_images_list)\n",
    "augmented_y_train = np.array(augmented_labels_list)"
   ]
  },
  {
   "cell_type": "code",
   "execution_count": 8,
   "id": "9bdeb061",
   "metadata": {
    "ExecuteTime": {
     "end_time": "2024-01-18T15:33:55.323158Z",
     "start_time": "2024-01-18T15:33:54.999687Z"
    }
   },
   "outputs": [],
   "source": [
    "model = tf.keras.models.Sequential([\n",
    "    tf.keras.layers.Flatten(input_shape=(28,28)), #Reshapes the input matrix (28x28) to a vector (784x1)\n",
    "    tf.keras.layers.Dense(128, activation='relu'),#This specifies the hidden layer, with 128 nodes\n",
    "    tf.keras.layers.Dropout(0.2),                 #This sets 20% of the inputs to 0, to prevent overfitting\n",
    "    tf.keras.layers.Dense(10,activation='softmax')#Output layer, it has 10 nodes as there are 10 digits\n",
    "                                                  #softmax gives probabilities for each digit, which adds up to 1.\n",
    "])"
   ]
  },
  {
   "cell_type": "code",
   "execution_count": 9,
   "id": "994c7c48",
   "metadata": {
    "ExecuteTime": {
     "end_time": "2024-01-18T15:33:55.330094Z",
     "start_time": "2024-01-18T15:33:55.324020Z"
    }
   },
   "outputs": [],
   "source": [
    "model.compile(optimizer='adam', \n",
    "              loss='sparse_categorical_crossentropy',\n",
    "              metrics=['accuracy'])"
   ]
  },
  {
   "cell_type": "code",
   "execution_count": 10,
   "id": "3a4e85c4",
   "metadata": {
    "ExecuteTime": {
     "end_time": "2024-01-18T15:34:41.183887Z",
     "start_time": "2024-01-18T15:33:55.330964Z"
    }
   },
   "outputs": [
    {
     "name": "stdout",
     "output_type": "stream",
     "text": [
      "Epoch 1/20\n",
      "3750/3750 [==============================] - 3s 664us/step - loss: 0.6832 - accuracy: 0.7836\n",
      "Epoch 2/20\n",
      "3750/3750 [==============================] - 3s 674us/step - loss: 0.4056 - accuracy: 0.8776\n",
      "Epoch 3/20\n",
      "3750/3750 [==============================] - 2s 633us/step - loss: 0.3309 - accuracy: 0.8996\n",
      "Epoch 4/20\n",
      "3750/3750 [==============================] - 2s 644us/step - loss: 0.2930 - accuracy: 0.9115\n",
      "Epoch 5/20\n",
      "3750/3750 [==============================] - 2s 579us/step - loss: 0.2675 - accuracy: 0.9181\n",
      "Epoch 6/20\n",
      "3750/3750 [==============================] - 2s 585us/step - loss: 0.2516 - accuracy: 0.9229\n",
      "Epoch 7/20\n",
      "3750/3750 [==============================] - 2s 582us/step - loss: 0.2370 - accuracy: 0.9275\n",
      "Epoch 8/20\n",
      "3750/3750 [==============================] - 2s 577us/step - loss: 0.2293 - accuracy: 0.9285\n",
      "Epoch 9/20\n",
      "3750/3750 [==============================] - 2s 583us/step - loss: 0.2189 - accuracy: 0.9323\n",
      "Epoch 10/20\n",
      "3750/3750 [==============================] - 2s 622us/step - loss: 0.2112 - accuracy: 0.9346\n",
      "Epoch 11/20\n",
      "3750/3750 [==============================] - 2s 586us/step - loss: 0.2045 - accuracy: 0.9364\n",
      "Epoch 12/20\n",
      "3750/3750 [==============================] - 2s 579us/step - loss: 0.1987 - accuracy: 0.9375\n",
      "Epoch 13/20\n",
      "3750/3750 [==============================] - 2s 636us/step - loss: 0.1922 - accuracy: 0.9399\n",
      "Epoch 14/20\n",
      "3750/3750 [==============================] - 2s 589us/step - loss: 0.1889 - accuracy: 0.9397\n",
      "Epoch 15/20\n",
      "3750/3750 [==============================] - 2s 591us/step - loss: 0.1842 - accuracy: 0.9420\n",
      "Epoch 16/20\n",
      "3750/3750 [==============================] - 2s 579us/step - loss: 0.1806 - accuracy: 0.9433\n",
      "Epoch 17/20\n",
      "3750/3750 [==============================] - 2s 588us/step - loss: 0.1784 - accuracy: 0.9437\n",
      "Epoch 18/20\n",
      "3750/3750 [==============================] - 2s 580us/step - loss: 0.1746 - accuracy: 0.9448\n",
      "Epoch 19/20\n",
      "3750/3750 [==============================] - 2s 535us/step - loss: 0.1717 - accuracy: 0.9452\n",
      "Epoch 20/20\n",
      "3750/3750 [==============================] - 2s 553us/step - loss: 0.1687 - accuracy: 0.9463\n"
     ]
    },
    {
     "data": {
      "text/plain": [
       "<keras.src.callbacks.History at 0x16b97a550>"
      ]
     },
     "execution_count": 10,
     "metadata": {},
     "output_type": "execute_result"
    }
   ],
   "source": [
    "model.fit(augmented_x_train, augmented_y_train, epochs=20)"
   ]
  },
  {
   "cell_type": "code",
   "execution_count": 11,
   "id": "47ea3575",
   "metadata": {
    "ExecuteTime": {
     "end_time": "2024-01-18T15:34:41.570535Z",
     "start_time": "2024-01-18T15:34:41.185319Z"
    }
   },
   "outputs": [
    {
     "name": "stdout",
     "output_type": "stream",
     "text": [
      "313/313 [==============================] - 0s 398us/step - loss: 0.1335 - accuracy: 0.9718\n"
     ]
    },
    {
     "data": {
      "text/plain": [
       "[0.13346832990646362, 0.9718000292778015]"
      ]
     },
     "execution_count": 11,
     "metadata": {},
     "output_type": "execute_result"
    }
   ],
   "source": [
    "model.evaluate(x_test, y_test) #This returns the loss and accuracy. Loss is the discrepancy between true label and\n",
    "                               #predicted label. Lower is better. Accuracy is proportion of correct predictions."
   ]
  },
  {
   "cell_type": "code",
   "execution_count": 14,
   "id": "99e77261",
   "metadata": {
    "ExecuteTime": {
     "end_time": "2024-01-18T15:38:07.702429Z",
     "start_time": "2024-01-18T15:36:33.459996Z"
    },
    "scrolled": false
   },
   "outputs": [
    {
     "name": "stdout",
     "output_type": "stream",
     "text": [
      "1/1 [==============================] - 0s 12ms/step\n"
     ]
    },
    {
     "data": {
      "image/png": "[encoded data removed]",
      "text/plain": [
       "<Figure size 640x480 with 1 Axes>"
      ]
     },
     "metadata": {},
     "output_type": "display_data"
    },
    {
     "name": "stdout",
     "output_type": "stream",
     "text": [
      "Predicted Probabilities:\n",
      "Digit 0: P = 1.00\n",
      "Digit 1: P = 0.00\n",
      "Digit 2: P = 0.00\n",
      "Digit 3: P = 0.00\n",
      "Digit 4: P = 0.00\n",
      "Digit 5: P = 0.00\n",
      "Digit 6: P = 0.00\n",
      "Digit 7: P = 0.00\n",
      "Digit 8: P = 0.00\n",
      "Digit 9: P = 0.00\n",
      "Predicted Label: 0\n",
      "1/1 [==============================] - 0s 14ms/step\n"
     ]
    },
    {
     "data": {
      "image/png": "[encoded data removed]",
      "text/plain": [
       "<Figure size 640x480 with 1 Axes>"
      ]
     },
     "metadata": {},
     "output_type": "display_data"
    },
    {
     "name": "stdout",
     "output_type": "stream",
     "text": [
      "Predicted Probabilities:\n",
      "Digit 0: P = 0.00\n",
      "Digit 1: P = 1.00\n",
      "Digit 2: P = 0.00\n",
      "Digit 3: P = 0.00\n",
      "Digit 4: P = 0.00\n",
      "Digit 5: P = 0.00\n",
      "Digit 6: P = 0.00\n",
      "Digit 7: P = 0.00\n",
      "Digit 8: P = 0.00\n",
      "Digit 9: P = 0.00\n",
      "Predicted Label: 1\n",
      "1/1 [==============================] - 0s 12ms/step\n"
     ]
    },
    {
     "data": {
      "image/png": "[encoded data removed]",
      "text/plain": [
       "<Figure size 640x480 with 1 Axes>"
      ]
     },
     "metadata": {},
     "output_type": "display_data"
    },
    {
     "name": "stdout",
     "output_type": "stream",
     "text": [
      "Predicted Probabilities:\n",
      "Digit 0: P = 0.00\n",
      "Digit 1: P = 0.00\n",
      "Digit 2: P = 1.00\n",
      "Digit 3: P = 0.00\n",
      "Digit 4: P = 0.00\n",
      "Digit 5: P = 0.00\n",
      "Digit 6: P = 0.00\n",
      "Digit 7: P = 0.00\n",
      "Digit 8: P = 0.00\n",
      "Digit 9: P = 0.00\n",
      "Predicted Label: 2\n",
      "1/1 [==============================] - 0s 13ms/step\n"
     ]
    },
    {
     "data": {
      "image/png": "[encoded data removed]",
      "text/plain": [
       "<Figure size 640x480 with 1 Axes>"
      ]
     },
     "metadata": {},
     "output_type": "display_data"
    },
    {
     "name": "stdout",
     "output_type": "stream",
     "text": [
      "Predicted Probabilities:\n",
      "Digit 0: P = 0.00\n",
      "Digit 1: P = 0.00\n",
      "Digit 2: P = 0.00\n",
      "Digit 3: P = 1.00\n",
      "Digit 4: P = 0.00\n",
      "Digit 5: P = 0.00\n",
      "Digit 6: P = 0.00\n",
      "Digit 7: P = 0.00\n",
      "Digit 8: P = 0.00\n",
      "Digit 9: P = 0.00\n",
      "Predicted Label: 3\n",
      "1/1 [==============================] - 0s 12ms/step\n"
     ]
    },
    {
     "data": {
      "image/png": "[encoded data removed]",
      "text/plain": [
       "<Figure size 640x480 with 1 Axes>"
      ]
     },
     "metadata": {},
     "output_type": "display_data"
    },
    {
     "name": "stdout",
     "output_type": "stream",
     "text": [
      "Predicted Probabilities:\n",
      "Digit 0: P = 0.00\n",
      "Digit 1: P = 0.00\n",
      "Digit 2: P = 0.00\n",
      "Digit 3: P = 0.00\n",
      "Digit 4: P = 1.00\n",
      "Digit 5: P = 0.00\n",
      "Digit 6: P = 0.00\n",
      "Digit 7: P = 0.00\n",
      "Digit 8: P = 0.00\n",
      "Digit 9: P = 0.00\n",
      "Predicted Label: 4\n",
      "1/1 [==============================] - 0s 12ms/step\n"
     ]
    },
    {
     "data": {
      "image/png": "[encoded data removed]",
      "text/plain": [
       "<Figure size 640x480 with 1 Axes>"
      ]
     },
     "metadata": {},
     "output_type": "display_data"
    },
    {
     "name": "stdout",
     "output_type": "stream",
     "text": [
      "Predicted Probabilities:\n",
      "Digit 0: P = 0.00\n",
      "Digit 1: P = 0.00\n",
      "Digit 2: P = 0.00\n",
      "Digit 3: P = 0.00\n",
      "Digit 4: P = 0.00\n",
      "Digit 5: P = 1.00\n",
      "Digit 6: P = 0.00\n",
      "Digit 7: P = 0.00\n",
      "Digit 8: P = 0.00\n",
      "Digit 9: P = 0.00\n",
      "Predicted Label: 5\n",
      "1/1 [==============================] - 0s 13ms/step\n"
     ]
    },
    {
     "data": {
      "image/png": "[encoded data removed]",
      "text/plain": [
       "<Figure size 640x480 with 1 Axes>"
      ]
     },
     "metadata": {},
     "output_type": "display_data"
    },
    {
     "name": "stdout",
     "output_type": "stream",
     "text": [
      "Predicted Probabilities:\n",
      "Digit 0: P = 0.76\n",
      "Digit 1: P = 0.00\n",
      "Digit 2: P = 0.00\n",
      "Digit 3: P = 0.00\n",
      "Digit 4: P = 0.00\n",
      "Digit 5: P = 0.23\n",
      "Digit 6: P = 0.01\n",
      "Digit 7: P = 0.00\n",
      "Digit 8: P = 0.00\n",
      "Digit 9: P = 0.00\n",
      "Predicted Label: 0\n",
      "1/1 [==============================] - 0s 11ms/step\n"
     ]
    },
    {
     "data": {
      "image/png": "[encoded data removed]",
      "text/plain": [
       "<Figure size 640x480 with 1 Axes>"
      ]
     },
     "metadata": {},
     "output_type": "display_data"
    },
    {
     "name": "stdout",
     "output_type": "stream",
     "text": [
      "Predicted Probabilities:\n",
      "Digit 0: P = 0.00\n",
      "Digit 1: P = 0.00\n",
      "Digit 2: P = 0.00\n",
      "Digit 3: P = 0.00\n",
      "Digit 4: P = 0.00\n",
      "Digit 5: P = 0.99\n",
      "Digit 6: P = 0.01\n",
      "Digit 7: P = 0.00\n",
      "Digit 8: P = 0.00\n",
      "Digit 9: P = 0.00\n",
      "Predicted Label: 5\n",
      "1/1 [==============================] - 0s 12ms/step\n"
     ]
    },
    {
     "data": {
      "image/png": "[encoded data removed]",
      "text/plain": [
       "<Figure size 640x480 with 1 Axes>"
      ]
     },
     "metadata": {},
     "output_type": "display_data"
    },
    {
     "name": "stdout",
     "output_type": "stream",
     "text": [
      "Predicted Probabilities:\n",
      "Digit 0: P = 0.00\n",
      "Digit 1: P = 0.00\n",
      "Digit 2: P = 0.00\n",
      "Digit 3: P = 0.01\n",
      "Digit 4: P = 0.00\n",
      "Digit 5: P = 0.00\n",
      "Digit 6: P = 0.00\n",
      "Digit 7: P = 0.99\n",
      "Digit 8: P = 0.00\n",
      "Digit 9: P = 0.00\n",
      "Predicted Label: 7\n",
      "1/1 [==============================] - 0s 12ms/step\n"
     ]
    },
    {
     "data": {
      "image/png": "[encoded data removed]",
      "text/plain": [
       "<Figure size 640x480 with 1 Axes>"
      ]
     },
     "metadata": {},
     "output_type": "display_data"
    },
    {
     "name": "stdout",
     "output_type": "stream",
     "text": [
      "Predicted Probabilities:\n",
      "Digit 0: P = 0.00\n",
      "Digit 1: P = 0.00\n",
      "Digit 2: P = 0.00\n",
      "Digit 3: P = 0.00\n",
      "Digit 4: P = 0.00\n",
      "Digit 5: P = 0.00\n",
      "Digit 6: P = 0.00\n",
      "Digit 7: P = 0.00\n",
      "Digit 8: P = 1.00\n",
      "Digit 9: P = 0.00\n",
      "Predicted Label: 8\n",
      "1/1 [==============================] - 0s 12ms/step\n"
     ]
    },
    {
     "data": {
      "image/png": "[encoded data removed]",
      "text/plain": [
       "<Figure size 640x480 with 1 Axes>"
      ]
     },
     "metadata": {},
     "output_type": "display_data"
    },
    {
     "name": "stdout",
     "output_type": "stream",
     "text": [
      "Predicted Probabilities:\n",
      "Digit 0: P = 0.00\n",
      "Digit 1: P = 0.00\n",
      "Digit 2: P = 0.00\n",
      "Digit 3: P = 0.02\n",
      "Digit 4: P = 0.00\n",
      "Digit 5: P = 0.00\n",
      "Digit 6: P = 0.00\n",
      "Digit 7: P = 0.00\n",
      "Digit 8: P = 0.00\n",
      "Digit 9: P = 0.98\n",
      "Predicted Label: 9\n",
      "1/1 [==============================] - 0s 12ms/step\n"
     ]
    },
    {
     "data": {
      "image/png": "[encoded data removed]",
      "text/plain": [
       "<Figure size 640x480 with 1 Axes>"
      ]
     },
     "metadata": {},
     "output_type": "display_data"
    },
    {
     "name": "stdout",
     "output_type": "stream",
     "text": [
      "Predicted Probabilities:\n",
      "Digit 0: P = 0.00\n",
      "Digit 1: P = 0.00\n",
      "Digit 2: P = 0.00\n",
      "Digit 3: P = 0.00\n",
      "Digit 4: P = 0.00\n",
      "Digit 5: P = 0.53\n",
      "Digit 6: P = 0.47\n",
      "Digit 7: P = 0.00\n",
      "Digit 8: P = 0.00\n",
      "Digit 9: P = 0.00\n",
      "Predicted Label: 5\n",
      "1/1 [==============================] - 0s 12ms/step\n"
     ]
    },
    {
     "data": {
      "image/png": "[encoded data removed]",
      "text/plain": [
       "<Figure size 640x480 with 1 Axes>"
      ]
     },
     "metadata": {},
     "output_type": "display_data"
    },
    {
     "name": "stdout",
     "output_type": "stream",
     "text": [
      "Predicted Probabilities:\n",
      "Digit 0: P = 0.00\n",
      "Digit 1: P = 0.00\n",
      "Digit 2: P = 0.00\n",
      "Digit 3: P = 0.00\n",
      "Digit 4: P = 0.00\n",
      "Digit 5: P = 0.21\n",
      "Digit 6: P = 0.78\n",
      "Digit 7: P = 0.00\n",
      "Digit 8: P = 0.00\n",
      "Digit 9: P = 0.00\n",
      "Predicted Label: 6\n"
     ]
    }
   ],
   "source": [
    "# Function to handle mouse movements\n",
    "def on_mouse_drag(event):\n",
    "    x1, y1 = (event.x - 6), (event.y - 6)\n",
    "    x2, y2 = (event.x + 6), (event.y + 6)\n",
    "    canvas.create_rectangle(x1, y1, x2, y2, fill=\"white\", width=8)\n",
    "    draw.line([x1, y1, x2, y2], fill=\"white\", width=8)\n",
    "\n",
    "# Function to clear the canvas\n",
    "def clear_canvas():\n",
    "    canvas.delete(\"all\")\n",
    "    draw.rectangle((0, 0, 280, 280), fill=\"black\")\n",
    "\n",
    "# Function to get the pixel information from the canvas\n",
    "def get_pixel_data():\n",
    "    image = img.resize((28, 28), Image.LANCZOS).convert('L')\n",
    "    pixel_data = np.array(image)\n",
    "    return pixel_data\n",
    "\n",
    "\n",
    "# Tkinter setup\n",
    "root = tk.Tk()\n",
    "root.title(\"Digit Drawer\")\n",
    "\n",
    "# Create a canvas\n",
    "canvas = tk.Canvas(root, width=280, height=280, bg=\"black\")\n",
    "canvas.pack(expand=tk.YES, fill=tk.BOTH)\n",
    "\n",
    "# Create a PIL Image and a draw object\n",
    "img = Image.new(\"RGB\", (280, 280), color=\"black\")\n",
    "draw = ImageDraw.Draw(img)\n",
    "\n",
    "# Bind mouse events\n",
    "canvas.bind(\"<B1-Motion>\", on_mouse_drag)\n",
    "\n",
    "def get_normalized_pixel_data(img):\n",
    "    # Resize the image to (28, 28) using Lanczos interpolation\n",
    "    image = img.resize((28, 28), Image.LANCZOS).convert('L')\n",
    "    # Convert the resized image to a NumPy array\n",
    "    pixel_data = np.array(image)\n",
    "    # Normalize pixel values to be in the range [0, 1]\n",
    "    normalized_pixel_data = pixel_data.astype(np.float32) / 255.0\n",
    "    return normalized_pixel_data\n",
    "\n",
    "\n",
    "def make_prediction(model, input_data):\n",
    "    # Reshape the input data to match the model's input shape\n",
    "    input_data = np.expand_dims(input_data, axis=0)\n",
    "    # Make predictions\n",
    "    predictions = model.predict(input_data)\n",
    "    # Return the predicted class probabilities\n",
    "    return predictions\n",
    "\n",
    "\n",
    "# Function to make predictions\n",
    "def make_and_display_prediction():\n",
    "    normalized_pixel_data = get_normalized_pixel_data(img)\n",
    "    predictions = make_prediction(model, normalized_pixel_data)\n",
    "    \n",
    "    plt.figure()\n",
    "    plt.imshow(normalized_pixel_data, cmap='gray')\n",
    "    plt.axis('off')\n",
    "    plt.show()\n",
    "\n",
    "    print(\"Predicted Probabilities:\")\n",
    "    for i in range(len(predictions[0])):\n",
    "        formatted_prob = \"{:.2f}\".format(predictions[0][i])\n",
    "        print(f\"Digit {i}: P = {formatted_prob}\")\n",
    "\n",
    "\n",
    "    highest = 0\n",
    "    label = 0\n",
    "    for i, prob in enumerate(predictions[0]):\n",
    "        if round(prob, 2) > highest:\n",
    "            highest = round(prob, 2)\n",
    "            label = i\n",
    "\n",
    "    print(f\"Predicted Label: {label}\")\n",
    "\n",
    "\n",
    "# Create buttons\n",
    "clear_button = tk.Button(root, text=\"Clear\", command=clear_canvas)\n",
    "clear_button.pack(side=tk.LEFT)\n",
    "\n",
    "evaluate_button = tk.Button(root, text=\"Evaluate\", command=make_and_display_prediction)\n",
    "evaluate_button.pack(side=tk.RIGHT)\n",
    "\n",
    "# Run the Tkinter event loop\n",
    "root.mainloop()\n"
   ]
  },
  {
   "cell_type": "code",
   "execution_count": null,
   "id": "8c7d1a7f",
   "metadata": {},
   "outputs": [],
   "source": []
  }
 ],
 "metadata": {
  "kernelspec": {
   "display_name": "Python 3 (ipykernel)",
   "language": "python",
   "name": "python3"
  },
  "language_info": {
   "codemirror_mode": {
    "name": "ipython",
    "version": 3
   },
   "file_extension": ".py",
   "mimetype": "text/x-python",
   "name": "python",
   "nbconvert_exporter": "python",
   "pygments_lexer": "ipython3",
   "version": "3.9.16"
  }
 },
 "nbformat": 4,
 "nbformat_minor": 5
}
